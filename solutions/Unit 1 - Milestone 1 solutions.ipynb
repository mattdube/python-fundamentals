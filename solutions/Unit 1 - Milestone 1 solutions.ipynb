{
 "cells": [
  {
   "cell_type": "markdown",
   "metadata": {
    "slideshow": {
     "slide_type": "slide"
    }
   },
   "source": [
    "## Unit 1, Milestone 1 solution"
   ]
  },
  {
   "cell_type": "code",
   "execution_count": 1,
   "metadata": {
    "slideshow": {
     "slide_type": "slide"
    }
   },
   "outputs": [
    {
     "name": "stdout",
     "output_type": "stream",
     "text": [
      "value of a: 1\n",
      "value of b: 2\n"
     ]
    }
   ],
   "source": [
    "# varibles with an int (immuttable)\n",
    "\n",
    "a = 1\n",
    "b = a\n",
    "b = 2\n",
    "\n",
    "print(f\"value of a: {a}\")\n",
    "print(f\"value of b: {b}\")"
   ]
  },
  {
   "cell_type": "code",
   "execution_count": 2,
   "metadata": {
    "slideshow": {
     "slide_type": "slide"
    }
   },
   "outputs": [
    {
     "name": "stdout",
     "output_type": "stream",
     "text": [
      "value of a: 0.5\n",
      "value of b: 9.5\n"
     ]
    }
   ],
   "source": [
    "# varibles with a float (immuttable)\n",
    "\n",
    "a = 0.5\n",
    "b = a\n",
    "b = 9.5\n",
    "\n",
    "print(f\"value of a: {a}\")\n",
    "print(f\"value of b: {b}\")"
   ]
  },
  {
   "cell_type": "code",
   "execution_count": 3,
   "metadata": {
    "slideshow": {
     "slide_type": "slide"
    }
   },
   "outputs": [
    {
     "name": "stdout",
     "output_type": "stream",
     "text": [
      "value of a: one\n",
      "value of b: two\n"
     ]
    }
   ],
   "source": [
    "# varibles with a string (immuttable)\n",
    "\n",
    "a = \"one\"\n",
    "b = a\n",
    "b = \"two\"\n",
    "\n",
    "print(f\"value of a: {a}\")\n",
    "print(f\"value of b: {b}\")"
   ]
  },
  {
   "cell_type": "code",
   "execution_count": 4,
   "metadata": {
    "slideshow": {
     "slide_type": "slide"
    }
   },
   "outputs": [
    {
     "ename": "TypeError",
     "evalue": "'tuple' object does not support item assignment",
     "output_type": "error",
     "traceback": [
      "\u001b[0;31m---------------------------------------------------------------------------\u001b[0m",
      "\u001b[0;31mTypeError\u001b[0m                                 Traceback (most recent call last)",
      "\u001b[0;32m/var/folders/5p/q3dq6skd7zg2k41gxjrt7k_00000gn/T/ipykernel_1871/2344514948.py\u001b[0m in \u001b[0;36m<module>\u001b[0;34m\u001b[0m\n\u001b[1;32m      4\u001b[0m \u001b[0mb\u001b[0m \u001b[0;34m=\u001b[0m \u001b[0ma\u001b[0m\u001b[0;34m\u001b[0m\u001b[0;34m\u001b[0m\u001b[0m\n\u001b[1;32m      5\u001b[0m \u001b[0;31m# this will raise a TypeError, since tuples are immutable and elements can't be changed\u001b[0m\u001b[0;34m\u001b[0m\u001b[0;34m\u001b[0m\u001b[0;34m\u001b[0m\u001b[0m\n\u001b[0;32m----> 6\u001b[0;31m \u001b[0mb\u001b[0m\u001b[0;34m[\u001b[0m\u001b[0;36m1\u001b[0m\u001b[0;34m]\u001b[0m \u001b[0;34m=\u001b[0m \u001b[0;36m9\u001b[0m\u001b[0;34m\u001b[0m\u001b[0;34m\u001b[0m\u001b[0m\n\u001b[0m\u001b[1;32m      7\u001b[0m \u001b[0;34m\u001b[0m\u001b[0m\n\u001b[1;32m      8\u001b[0m \u001b[0mprint\u001b[0m\u001b[0;34m(\u001b[0m\u001b[0;34mf\"value of a: {a}\"\u001b[0m\u001b[0;34m)\u001b[0m\u001b[0;34m\u001b[0m\u001b[0;34m\u001b[0m\u001b[0m\n",
      "\u001b[0;31mTypeError\u001b[0m: 'tuple' object does not support item assignment"
     ]
    }
   ],
   "source": [
    "# varibles with a tuple (immuttable)\n",
    "\n",
    "a = (1, 2, 3)\n",
    "b = a\n",
    "# this will raise a TypeError, since tuples are immuttable and elements can't be changed\n",
    "b[1] = 9\n",
    "\n",
    "print(f\"value of a: {a}\")\n",
    "print(f\"value of b: {b}\")"
   ]
  },
  {
   "cell_type": "code",
   "execution_count": 5,
   "metadata": {
    "slideshow": {
     "slide_type": "slide"
    }
   },
   "outputs": [
    {
     "name": "stdout",
     "output_type": "stream",
     "text": [
      "value of a: (1, 2, 3)\n",
      "value of b: (4, 5, 6)\n"
     ]
    }
   ],
   "source": [
    "# varibles with a tuple (immuttable)\n",
    "\n",
    "a = (1, 2, 3)\n",
    "b = a\n",
    "b = (4, 5, 6)\n",
    "\n",
    "print(f\"value of a: {a}\")\n",
    "print(f\"value of b: {b}\")"
   ]
  },
  {
   "cell_type": "code",
   "execution_count": 6,
   "metadata": {
    "slideshow": {
     "slide_type": "slide"
    }
   },
   "outputs": [
    {
     "name": "stdout",
     "output_type": "stream",
     "text": [
      "value of a: [1, 9, 3]\n",
      "value of b: [1, 9, 3]\n"
     ]
    }
   ],
   "source": [
    "# varibles with a list (muttable)\n",
    "a = [1, 2, 3]\n",
    "b = a\n",
    "b[1] = 9\n",
    "\n",
    "print(f\"value of a: {a}\")\n",
    "print(f\"value of b: {b}\")"
   ]
  },
  {
   "cell_type": "code",
   "execution_count": 7,
   "metadata": {
    "slideshow": {
     "slide_type": "slide"
    }
   },
   "outputs": [
    {
     "name": "stdout",
     "output_type": "stream",
     "text": [
      "value of a: [1, 2, 3]\n",
      "value of b: [4, 5, 6]\n"
     ]
    }
   ],
   "source": [
    "# varibles with a list (muttable)\n",
    "a = [1, 2, 3]\n",
    "b = a\n",
    "b = [4, 5, 6]\n",
    "\n",
    "print(f\"value of a: {a}\")\n",
    "print(f\"value of b: {b}\")"
   ]
  },
  {
   "cell_type": "code",
   "execution_count": 8,
   "metadata": {
    "slideshow": {
     "slide_type": "slide"
    }
   },
   "outputs": [
    {
     "name": "stdout",
     "output_type": "stream",
     "text": [
      "value of a: {'one': 1, 'two': 9, 'three': 3}\n",
      "value of b: {'one': 1, 'two': 9, 'three': 3}\n"
     ]
    }
   ],
   "source": [
    "# varibles with a dictionary (muttable)\n",
    "\n",
    "a = {\"one\":1, \"two\":2, \"three\":3}\n",
    "b = a\n",
    "b[\"two\"] = 9\n",
    "\n",
    "print(f\"value of a: {a}\")\n",
    "print(f\"value of b: {b}\")"
   ]
  },
  {
   "cell_type": "code",
   "execution_count": 9,
   "metadata": {
    "slideshow": {
     "slide_type": "slide"
    }
   },
   "outputs": [
    {
     "name": "stdout",
     "output_type": "stream",
     "text": [
      "value of a: {'one': 1, 'two': 2, 'three': 3}\n",
      "value of b: {'one': 100, 'two': 200, 'four': 400}\n"
     ]
    }
   ],
   "source": [
    "# varibles with a dictionary (muttable)\n",
    "\n",
    "a = {\"one\":1, \"two\":2, \"three\":3}\n",
    "b = a\n",
    "b = {\"one\": 100, \"two\":200, \"four\":400}\n",
    "\n",
    "print(f\"value of a: {a}\")\n",
    "print(f\"value of b: {b}\")"
   ]
  }
 ],
 "metadata": {
  "celltoolbar": "Slideshow",
  "kernelspec": {
   "display_name": "Python 3 (ipykernel)",
   "language": "python",
   "name": "python3"
  },
  "language_info": {
   "codemirror_mode": {
    "name": "ipython",
    "version": 3
   },
   "file_extension": ".py",
   "mimetype": "text/x-python",
   "name": "python",
   "nbconvert_exporter": "python",
   "pygments_lexer": "ipython3",
   "version": "3.8.12"
  },
  "livereveal": {
   "scroll": true,
   "start_slideshow_at": "selected",
   "transition": "none"
  },
  "toc": {
   "base_numbering": 1,
   "nav_menu": {},
   "number_sections": false,
   "sideBar": true,
   "skip_h1_title": false,
   "title_cell": "Table of Contents",
   "title_sidebar": "Contents",
   "toc_cell": false,
   "toc_position": {},
   "toc_section_display": true,
   "toc_window_display": false
  }
 },
 "nbformat": 4,
 "nbformat_minor": 2
}

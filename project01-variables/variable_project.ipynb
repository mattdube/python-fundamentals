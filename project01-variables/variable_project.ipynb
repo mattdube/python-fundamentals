{
 "cells": [
  {
   "cell_type": "code",
   "execution_count": 8,
   "metadata": {},
   "outputs": [
    {
     "name": "stdout",
     "output_type": "stream",
     "text": [
      "Initial List a: [1, 2, 3], address: 140488180019136\n",
      "Initial List b: [1, 2, 3], address: 140488180019136\n",
      "Modified List a: [1, 8, 3], address: 140488180019136\n",
      "Modified List b: [1, 8, 3], address: 140488180019136\n"
     ]
    }
   ],
   "source": [
    "# Lists\n",
    "a = [1, 2, 3]\n",
    "b = a\n",
    "\n",
    "print(f'Initial List a: {a}, address: {id(a)}')\n",
    "print(f'Initial List b: {b}, address: {id(b)}')\n",
    "\n",
    "# reassign an element of list a\n",
    "a[1] = 8\n",
    "print(f'Modified List a: {a}, address: {id(a)}')\n",
    "print(f'Modified List b: {b}, address: {id(b)}')\n"
   ]
  },
  {
   "cell_type": "code",
   "execution_count": 19,
   "metadata": {},
   "outputs": [
    {
     "name": "stdout",
     "output_type": "stream",
     "text": [
      "value of a: 1, address of a: 140488302795056\n",
      "value of b: 1, address of b: 140488302795056\n",
      "Updated value of a: 3, address of a: 140488302795120\n",
      "Updated value of b: 1, address of b: 140488302795056\n"
     ]
    }
   ],
   "source": [
    "# Integers\n",
    "a = 1\n",
    "b = a\n",
    "\n",
    "print(f'value of a: {a}, address of a: {id(a)}')\n",
    "print(f'value of b: {b}, address of b: {id(b)}')\n",
    "\n",
    "# reassign a\n",
    "a = 3\n",
    "print(f'Updated value of a: {a}, address of a: {id(a)}')\n",
    "print(f'Updated value of b: {b}, address of b: {id(b)}')\n",
    "\n",
    "# memory address of 'a' has changed when re-assigned, b still references the initial memory address\n",
    "# in other words, the label is the same, the object it references is now different when a is updated\n",
    "# other immuatable data types will have the same behavior"
   ]
  },
  {
   "cell_type": "code",
   "execution_count": 18,
   "metadata": {},
   "outputs": [
    {
     "name": "stdout",
     "output_type": "stream",
     "text": [
      "Initial values of a: {'a': 1, 'b': 2, 'c': 3}, address: 140488180077056\n",
      "Initial values of b: {'a': 1, 'b': 2, 'c': 3}, address: 140488180077056\n",
      "Updated values of a: {'a': 1, 'b': 9, 'c': 3}, address: 140488180077056\n",
      "Updated values of b: {'a': 1, 'b': 9, 'c': 3}, address: 140488180077056\n"
     ]
    }
   ],
   "source": [
    "# dictionary\n",
    "a = {'a':1, 'b':2, 'c':3}\n",
    "b = a\n",
    "\n",
    "print(f'Initial values of a: {a}, address: {id(a)}')\n",
    "print(f'Initial values of b: {b}, address: {id(b)}')\n",
    "\n",
    "a['b'] = 9\n",
    "print(f'Updated values of a: {a}, address: {id(a)}')\n",
    "print(f'Updated values of b: {b}, address: {id(b)}')\n",
    "\n",
    "# same behavior as the list. the memory address of mutable object does not change when an udpate occurs.\n",
    "# instead, the change is updated in the same memory address, and all labels for that address are updated.\n"
   ]
  }
 ],
 "metadata": {
  "interpreter": {
   "hash": "9d7f8e7ecfaeba92c3f9834178a701581416329daadea63c11e7f2711e1cf583"
  },
  "kernelspec": {
   "display_name": "Python 3.9.12 ('ds_base')",
   "language": "python",
   "name": "python3"
  },
  "language_info": {
   "codemirror_mode": {
    "name": "ipython",
    "version": 3
   },
   "file_extension": ".py",
   "mimetype": "text/x-python",
   "name": "python",
   "nbconvert_exporter": "python",
   "pygments_lexer": "ipython3",
   "version": "3.9.12"
  },
  "orig_nbformat": 4
 },
 "nbformat": 4,
 "nbformat_minor": 2
}
